{
  "nbformat": 4,
  "nbformat_minor": 0,
  "metadata": {
    "colab": {
      "provenance": []
    },
    "kernelspec": {
      "name": "python3",
      "display_name": "Python 3"
    },
    "language_info": {
      "name": "python"
    }
  },
  "cells": [
    {
      "cell_type": "code",
      "execution_count": 10,
      "metadata": {
        "id": "FhYbI9emJGgd"
      },
      "outputs": [],
      "source": [
        "import os\n",
        "\n",
        "def find_rgb_front_and_write_paths(directory_path, output_file):\n",
        "    with open(output_file, 'w') as file:\n",
        "        for root, dirs, files in os.walk(directory_path):\n",
        "            if 'rgb' in dirs:\n",
        "                rgb_front_path = os.path.join(root, 'rgb')\n",
        "                item_count = len(files)\n",
        "                path_with_count = f\"/{os.path.relpath(rgb_front_path, directory_path)}/{item_count}\"\n",
        "                file.write(path_with_count + '\\n')\n",
        "\n",
        "# Example usage\n",
        "directory_path = '/content/dataset'\n",
        "output_file = '/content/output.txt'\n",
        "find_rgb_front_and_write_paths(directory_path, output_file)\n",
        "\n"
      ]
    },
    {
      "cell_type": "code",
      "source": [
        "import os\n",
        "\n",
        "def find_rgb_front_and_write_paths(directory_path, output_file):\n",
        "    with open(output_file, 'w') as file:\n",
        "        for root, dirs, _ in os.walk(directory_path):\n",
        "            if 'rgb' in dirs:\n",
        "                rgb_front_path = os.path.join(root, 'rgb')\n",
        "                file.write(rgb_front_path + '\\n')\n",
        "\n",
        "# Example usage\n",
        "directory_path = '/content/dataset'\n",
        "output_file = '/content/output.txt'\n",
        "find_rgb_front_and_write_paths(directory_path, output_file)\n"
      ],
      "metadata": {
        "id": "XSU6udQuLPrL"
      },
      "execution_count": 6,
      "outputs": []
    },
    {
      "cell_type": "code",
      "source": [
        "import os\n",
        "\n",
        "def count_items_in_rgb_front(directory_path):\n",
        "    for root, dirs, files in os.walk(directory_path):\n",
        "        if 'rgb' in dirs:\n",
        "            rgb_front_path = os.path.join(root, 'rgb')\n",
        "            item_count = len(os.listdir(rgb_front_path))\n",
        "            path_with_count = f\"{os.path.relpath(rgb_front_path, directory_path)}: {item_count}\"\n",
        "            return path_with_count\n",
        "\n",
        "# Example usage\n",
        "directory_path = '/content/dataset'\n",
        "path_with_count = count_items_in_rgb_front(directory_path)\n",
        "\n",
        "# Write the path with count to a text file\n",
        "output_file = '/content/output.txt'\n",
        "with open(output_file, 'w') as file:\n",
        "    file.write(path_with_count)"
      ],
      "metadata": {
        "id": "FvHqrzcaOT-F"
      },
      "execution_count": 11,
      "outputs": []
    }
  ]
}